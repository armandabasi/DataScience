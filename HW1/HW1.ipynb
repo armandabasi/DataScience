{
  "nbformat": 4,
  "nbformat_minor": 0,
  "metadata": {
    "colab": {
      "provenance": []
    },
    "kernelspec": {
      "name": "python3",
      "display_name": "Python 3"
    },
    "language_info": {
      "name": "python"
    }
  },
  "cells": [
    {
      "cell_type": "code",
      "execution_count": 88,
      "metadata": {
        "colab": {
          "base_uri": "https://localhost:8080/"
        },
        "id": "h-pApw-dXN-J",
        "outputId": "1d851b61-ba97-4166-aaaa-4572f043a0e0"
      },
      "outputs": [
        {
          "output_type": "stream",
          "name": "stdout",
          "text": [
            "\n",
            "1 Створіть одновимірний масив (вектор) з першими 10-ма натуральними числами та виведіть його значення.\n",
            "answer:\n",
            "[ 1  2  3  4  5  6  7  8  9 10]\n",
            "[ 1.  2.  3.  4.  5.  6.  7.  8.  9. 10.]\n"
          ]
        }
      ],
      "source": [
        "import numpy as np\n",
        "\n",
        "print('''\\n1 Створіть одновимірний масив (вектор) з першими 10-ма натуральними числами та виведіть його значення.''')\n",
        "print('''answer:''')\n",
        "a = np.arange(1, 11)\n",
        "print(a)\n",
        "a = np.linspace(1, 10, num=10)\n",
        "print(a)\n"
      ]
    },
    {
      "cell_type": "code",
      "source": [
        "print('''\\n2 Створіть двовимірний масив (матрицю) розміром 3x3, заповніть його нулями та виведіть його значення.''')\n",
        "print('''answer:''')\n",
        "a = np.zeros((3,3), dtype=int)\n",
        "print(a)"
      ],
      "metadata": {
        "colab": {
          "base_uri": "https://localhost:8080/"
        },
        "id": "Bb3CVvO4zaDN",
        "outputId": "2a49959e-74bf-4e25-c395-e630c535af24"
      },
      "execution_count": 68,
      "outputs": [
        {
          "output_type": "stream",
          "name": "stdout",
          "text": [
            "\n",
            "2 Створіть двовимірний масив (матрицю) розміром 3x3, заповніть його нулями та виведіть його значення.\n",
            "answer:\n",
            "[[0 0 0]\n",
            " [0 0 0]\n",
            " [0 0 0]]\n"
          ]
        }
      ]
    },
    {
      "cell_type": "code",
      "source": [
        "print('''\\n3 Створіть масив розміром 5x5, заповніть його випадковими цілими числами в діапазоні від 1 до 10 та виведіть його значення.''')\n",
        "print('''answer:''')\n",
        "a = np.random.randint(1, 11, size=(25)).reshape((5,5))\n",
        "print(a)\n",
        "print('''answer 2:''')\n",
        "a = np.random.randint(1, 11, size=(5,5))\n",
        "print(a)"
      ],
      "metadata": {
        "colab": {
          "base_uri": "https://localhost:8080/"
        },
        "id": "-8KQz4YOzd7z",
        "outputId": "ad5d7197-2d49-4e4f-bf62-53e94f092ac5"
      },
      "execution_count": 70,
      "outputs": [
        {
          "output_type": "stream",
          "name": "stdout",
          "text": [
            "\n",
            "3 Створіть масив розміром 5x5, заповніть його випадковими цілими числами в діапазоні від 1 до 10 та виведіть його значення.\n",
            "answer:\n",
            "[[ 1  8  3  7  1]\n",
            " [ 6  9  7  3  4]\n",
            " [ 4  3  7 10  4]\n",
            " [ 5  4  7  1  7]\n",
            " [ 9  9  7  6  9]]\n",
            "answer 2:\n",
            "[[ 9  9  8  3  3]\n",
            " [ 3  5  2  4 10]\n",
            " [ 2 10  1  1  3]\n",
            " [ 3  5  3  9  2]\n",
            " [ 3  1 10  7  8]]\n"
          ]
        }
      ]
    },
    {
      "cell_type": "code",
      "source": [
        "print('''\\n4 Створіть масив розміром 4x4, заповніть його випадковими дійсними числами в діапазоні від 0 до 1 та виведіть його значення.''')\n",
        "print('''answer:''')\n",
        "a = np.random.random((4,4))\n",
        "print(a)"
      ],
      "metadata": {
        "colab": {
          "base_uri": "https://localhost:8080/"
        },
        "id": "Cl6uEiYlzlKe",
        "outputId": "0e484397-f62f-4813-ca48-2ebfbfa39c47"
      },
      "execution_count": 72,
      "outputs": [
        {
          "output_type": "stream",
          "name": "stdout",
          "text": [
            "\n",
            "4 Створіть масив розміром 4x4, заповніть його випадковими дійсними числами в діапазоні від 0 до 1 та виведіть його значення.\n",
            "answer:\n",
            "[[0.45363908 0.76069776 0.59393941 0.207253  ]\n",
            " [0.16191214 0.1797345  0.02805861 0.13623276]\n",
            " [0.50229884 0.56283387 0.5784271  0.87937174]\n",
            " [0.63421067 0.57745358 0.52196041 0.34858271]]\n"
          ]
        }
      ]
    },
    {
      "cell_type": "code",
      "source": [
        "print('''\\n5 Створіть два одновимірних масиви розміром 5, заповніть їх випадковими цілими числами в діапазоні від 1 до 10 та виконайте на них поелементні операції додавання, віднімання та множення.''')\n",
        "print('''answer:''')\n",
        "a = np.random.randint(1, 11, size=5)\n",
        "b = np.random.randint(1, 11, size=5)\n",
        "print(f\"a = {a}\")\n",
        "print(f\"b = {b}\")\n",
        "print(\"sum =\", a + b)\n",
        "print(\"subtraction =\", a - b)\n",
        "print(\"multiplication =\", a * b)"
      ],
      "metadata": {
        "colab": {
          "base_uri": "https://localhost:8080/"
        },
        "id": "scS76rXtz6os",
        "outputId": "d9fb611d-35fe-4547-e5a6-c3c852d45028"
      },
      "execution_count": 73,
      "outputs": [
        {
          "output_type": "stream",
          "name": "stdout",
          "text": [
            "\n",
            "5 Створіть два одновимірних масиви розміром 5, заповніть їх випадковими цілими числами в діапазоні від 1 до 10 та виконайте на них поелементні операції додавання, віднімання та множення.\n",
            "answer:\n",
            "a = [ 2  1 10  3  8]\n",
            "b = [10  6  4  3  4]\n",
            "sum = [12  7 14  6 12]\n",
            "subtraction = [-8 -5  6  0  4]\n",
            "multiplication = [20  6 40  9 32]\n"
          ]
        }
      ]
    },
    {
      "cell_type": "code",
      "source": [
        "print('''\\n6 Створіть два вектори розміром 7, заповніть довільними числами та знайдіть їх скалярний добуток.''')\n",
        "print('''answer:''')\n",
        "a = np.random.randint(1, 11, size=7)\n",
        "b = np.random.randint(1, 11, size=7)\n",
        "print(f\"a = {a}\")\n",
        "print(f\"b = {b}\")\n",
        "c = np.dot(a, b)\n",
        "print(\"scalar product =\", c)"
      ],
      "metadata": {
        "colab": {
          "base_uri": "https://localhost:8080/"
        },
        "id": "-gbtSho2z-nk",
        "outputId": "3fd2d5de-b677-4e2e-accd-536078500bbf"
      },
      "execution_count": 74,
      "outputs": [
        {
          "output_type": "stream",
          "name": "stdout",
          "text": [
            "\n",
            "6 Створіть два вектори розміром 7, заповніть довільними числами та знайдіть їх скалярний добуток.\n",
            "answer:\n",
            "a = [ 2  9  6 10  4  3  3]\n",
            "b = [ 3  1  4  6  8 10  9]\n",
            "scalar product = 188\n"
          ]
        }
      ]
    },
    {
      "cell_type": "code",
      "source": [
        "print('''\\n7 Створіть дві матриці розміром 2x2 та 2x3, заповніть їх випадковими цілими числами в діапазоні від 1 до 10 та перемножте їх між собою.''')\n",
        "print('''answer:''')\n",
        "a = np.random.randint(1, 11, size=4).reshape(2,2)\n",
        "b = np.random.randint(1, 11, size=6).reshape(2,3)\n",
        "print(f\"a: \\n{a}\")\n",
        "print(f\"b: \\n{b}\")\n",
        "c = np.dot(a, b)\n",
        "print(\"answer:\\n\", c)"
      ],
      "metadata": {
        "colab": {
          "base_uri": "https://localhost:8080/"
        },
        "id": "OGSN_0bcz_H0",
        "outputId": "36e3d274-0409-47a3-b207-d63b7b4061f6"
      },
      "execution_count": 76,
      "outputs": [
        {
          "output_type": "stream",
          "name": "stdout",
          "text": [
            "\n",
            "7 Створіть дві матриці розміром 2x2 та 2x3, заповніть їх випадковими цілими числами в діапазоні від 1 до 10 та перемножте їх між собою.\n",
            "answer:\n",
            "a: \n",
            "[[10  8]\n",
            " [ 3  3]]\n",
            "b: \n",
            "[[10  3  7]\n",
            " [ 1  4  1]]\n",
            "answer:\n",
            " [[108  62  78]\n",
            " [ 33  21  24]]\n"
          ]
        }
      ]
    },
    {
      "cell_type": "code",
      "source": [
        "print('''\\n8 Створіть матрицю розміром 3x3, заповніть її випадковими цілими числами в діапазоні від 1 до 10 та знайдіть її обернену матрицю.''')\n",
        "print('''answer:''')\n",
        "a = np.random.randint(1, 11, size=9).reshape(3,3)\n",
        "print(f\"a: \\n{a}\")\n",
        "b = np.linalg.inv(a)\n",
        "print(\"inverse matrix:\\n\", b)\n",
        "\n",
        "c = np.dot(a, b)\n",
        "print(\"check:\\n\", np.rint(c))"
      ],
      "metadata": {
        "colab": {
          "base_uri": "https://localhost:8080/"
        },
        "id": "aGkOwoFGz_kz",
        "outputId": "787cabe9-a595-427a-bcb6-6c3b381a9b6a"
      },
      "execution_count": 77,
      "outputs": [
        {
          "output_type": "stream",
          "name": "stdout",
          "text": [
            "\n",
            "8 Створіть матрицю розміром 3x3, заповніть її випадковими цілими числами в діапазоні від 1 до 10 та знайдіть її обернену матрицю.\n",
            "answer:\n",
            "a: \n",
            "[[ 9  6  9]\n",
            " [ 2  5  7]\n",
            " [10  9  8]]\n",
            "inverse matrix:\n",
            " [[ 0.13450292 -0.19298246  0.01754386]\n",
            " [-0.31578947  0.10526316  0.26315789]\n",
            " [ 0.1871345   0.12280702 -0.19298246]]\n",
            "check:\n",
            " [[ 1. -0.  0.]\n",
            " [ 0.  1.  0.]\n",
            " [ 0. -0.  1.]]\n"
          ]
        }
      ]
    },
    {
      "cell_type": "code",
      "source": [
        "print('''\\n9 Створіть матрицю розміром 4x4, заповніть її випадковими дійсними числами в діапазоні від 0 до 1 та транспонуйте її''')\n",
        "print('''answer:''')\n",
        "a = np.random.rand(4, 4)\n",
        "print(f\"a: \\n{a}\")\n",
        "b = a.T\n",
        "print(\"transposed matrix:\\n\", b)"
      ],
      "metadata": {
        "colab": {
          "base_uri": "https://localhost:8080/"
        },
        "id": "dEyYren6z_48",
        "outputId": "22ac3de4-9861-43da-9a2f-c18483dbad5d"
      },
      "execution_count": 78,
      "outputs": [
        {
          "output_type": "stream",
          "name": "stdout",
          "text": [
            "\n",
            "9 Створіть матрицю розміром 4x4, заповніть її випадковими дійсними числами в діапазоні від 0 до 1 та транспонуйте її\n",
            "answer:\n",
            "a: \n",
            "[[0.68237483 0.0012284  0.91024062 0.21414953]\n",
            " [0.83016416 0.73546264 0.19298117 0.52314219]\n",
            " [0.19266027 0.12953569 0.02954023 0.4141927 ]\n",
            " [0.59070371 0.45744288 0.6918194  0.71763105]]\n",
            "transposed matrix:\n",
            " [[0.68237483 0.83016416 0.19266027 0.59070371]\n",
            " [0.0012284  0.73546264 0.12953569 0.45744288]\n",
            " [0.91024062 0.19298117 0.02954023 0.6918194 ]\n",
            " [0.21414953 0.52314219 0.4141927  0.71763105]]\n"
          ]
        }
      ]
    },
    {
      "cell_type": "code",
      "source": [
        "print('''\\n10 Створіть матрицю розміром 3x4 та вектор розміром 4, заповніть їх випадковими цілими числами в діапазоні від 1 до 10 та перемножте матрицю на вектор.''')\n",
        "a = np.random.randint(1, 11, size=(3, 4))\n",
        "b = np.random.randint(1, 11, size=4)\n",
        "print(f\"a: \\n{a}\")\n",
        "print(f\"b: \\n{b}\")\n",
        "c = np.dot(a, b)\n",
        "print(\"answer a⋅b:  \\n\", c)"
      ],
      "metadata": {
        "colab": {
          "base_uri": "https://localhost:8080/"
        },
        "id": "2f6KjaKM0AGk",
        "outputId": "c9a78ff2-0230-48b9-8b6d-e8c58d604cab"
      },
      "execution_count": 79,
      "outputs": [
        {
          "output_type": "stream",
          "name": "stdout",
          "text": [
            "\n",
            "10 Створіть матрицю розміром 3x4 та вектор розміром 4, заповніть їх випадковими цілими числами в діапазоні від 1 до 10 та перемножте матрицю на вектор.\n",
            "a: \n",
            "[[ 7  4  1  3]\n",
            " [ 2 10  2  9]\n",
            " [ 8  4  8  9]]\n",
            "b: \n",
            "[10  7  2  3]\n",
            "answer a⋅b:  \n",
            " [109 121 151]\n"
          ]
        }
      ]
    },
    {
      "cell_type": "code",
      "source": [
        "print('''\\n11 Створіть матрицю розміром 2x3 та вектор розміром 3, заповніть їх випадковими дійсними числами в діапазоні від 0 до 1 та перемножте матрицю на вектор.''')\n",
        "a = np.random.rand(2,3)\n",
        "b = np.random.rand(3)\n",
        "print(f\"a: \\n{a}\")\n",
        "print(f\"b: \\n{b}\")\n",
        "c = np.dot(a, b)\n",
        "print(\"answer a⋅b:  \\n\", c)"
      ],
      "metadata": {
        "colab": {
          "base_uri": "https://localhost:8080/"
        },
        "id": "SRnBkIzW0AQ0",
        "outputId": "8ea721cb-80d2-48f7-cc7d-9ac512f6bc68"
      },
      "execution_count": 80,
      "outputs": [
        {
          "output_type": "stream",
          "name": "stdout",
          "text": [
            "\n",
            "11 Створіть матрицю розміром 2x3 та вектор розміром 3, заповніть їх випадковими дійсними числами в діапазоні від 0 до 1 та перемножте матрицю на вектор.\n",
            "a: \n",
            "[[0.57781116 0.56584215 0.05974498]\n",
            " [0.95682098 0.9060917  0.95387954]]\n",
            "b: \n",
            "[0.86329091 0.2657549  0.23212802]\n",
            "answer a⋅b:  \n",
            " [0.66306292 1.28823533]\n"
          ]
        }
      ]
    },
    {
      "cell_type": "code",
      "source": [
        "print('''\\n12 Створіть дві матриці розміром 2x2, заповніть їх випадковими цілими числами в діапазоні від 1 до 10 та виконайте їхнє поелементне множення.''')\n",
        "a = np.random.randint(1, 11, size=(2, 2))\n",
        "b = np.random.randint(1, 11, size=(2, 2))\n",
        "print(f\"a: \\n{a}\")\n",
        "print(f\"b: \\n{b}\")\n",
        "c = a * b\n",
        "print(\"answer a*b:  \\n\", c)"
      ],
      "metadata": {
        "colab": {
          "base_uri": "https://localhost:8080/"
        },
        "id": "5QN8ymH10AnM",
        "outputId": "1c4cfd6b-d4b4-4eed-bc5d-44ccfde60889"
      },
      "execution_count": 82,
      "outputs": [
        {
          "output_type": "stream",
          "name": "stdout",
          "text": [
            "\n",
            "12 Створіть дві матриці розміром 2x2, заповніть їх випадковими цілими числами в діапазоні від 1 до 10 та виконайте їхнє поелементне множення.\n",
            "a: \n",
            "[[2 5]\n",
            " [3 6]]\n",
            "b: \n",
            "[[4 9]\n",
            " [9 4]]\n",
            "answer a*b:  \n",
            " [[ 8 45]\n",
            " [27 24]]\n"
          ]
        }
      ]
    },
    {
      "cell_type": "code",
      "source": [
        "print('''\\n13 Створіть дві матриці розміром 2x2, заповніть їх випадковими цілими числами в діапазоні від 1 до 10 та знайдіть їх добуток.''')\n",
        "a = np.random.randint(1, 11, size=(2, 2))\n",
        "b = np.random.randint(1, 11, size=(2, 2))\n",
        "print(f\"a: \\n{a}\")\n",
        "print(f\"b: \\n{b}\")\n",
        "c = np.dot(a, b)\n",
        "print(\"answer a⋅b:  \\n\", c)"
      ],
      "metadata": {
        "colab": {
          "base_uri": "https://localhost:8080/"
        },
        "id": "qKejWCAg0AxT",
        "outputId": "a847f1b5-8198-4df9-f969-494ee45fc793"
      },
      "execution_count": 83,
      "outputs": [
        {
          "output_type": "stream",
          "name": "stdout",
          "text": [
            "\n",
            "13 Створіть дві матриці розміром 2x2, заповніть їх випадковими цілими числами в діапазоні від 1 до 10 та знайдіть їх добуток.\n",
            "a: \n",
            "[[3 2]\n",
            " [1 7]]\n",
            "b: \n",
            "[[5 5]\n",
            " [9 7]]\n",
            "answer a⋅b:  \n",
            " [[33 29]\n",
            " [68 54]]\n"
          ]
        }
      ]
    },
    {
      "cell_type": "code",
      "source": [
        "print('''\\n14 Створіть матрицю розміром 5x5, заповніть її випадковими цілими числами в діапазоні від 1 до 100 та знайдіть суму елементів матриці.''')\n",
        "a = np.random.randint(1, 101, size=(5, 5))\n",
        "print(f\"a: \\n{a}\")\n",
        "print(\"sum of matrix elements:\\n\", a.sum())"
      ],
      "metadata": {
        "colab": {
          "base_uri": "https://localhost:8080/"
        },
        "id": "n6aMCZWR0A6z",
        "outputId": "f3c6e737-ded9-495b-d20e-ed292bc3906f"
      },
      "execution_count": 84,
      "outputs": [
        {
          "output_type": "stream",
          "name": "stdout",
          "text": [
            "\n",
            "14 Створіть матрицю розміром 5x5, заповніть її випадковими цілими числами в діапазоні від 1 до 100 та знайдіть суму елементів матриці.\n",
            "a: \n",
            "[[35 62 44 57 30]\n",
            " [41 69 47 77 67]\n",
            " [94 76 37 83 55]\n",
            " [ 9 57 28 51 28]\n",
            " [ 1 33 70 92 58]]\n",
            "sum of matrix elements:\n",
            " 1301\n"
          ]
        }
      ]
    },
    {
      "cell_type": "code",
      "source": [
        "print('''\\n15 Створіть дві матриці розміром 4x4, заповніть їх випадковими цілими числами в діапазоні від 1 до 10 та знайдіть їхню різницю.''')\n",
        "a = np.random.randint(1, 11, size=(4, 4))\n",
        "b = np.random.randint(1, 11, size=(4, 4))\n",
        "print(f\"a: \\n{a}\")\n",
        "print(f\"b: \\n{b}\")\n",
        "c = a - b\n",
        "print(\"answer a-b:  \\n\", c)"
      ],
      "metadata": {
        "colab": {
          "base_uri": "https://localhost:8080/"
        },
        "id": "umvuTaTM0BF0",
        "outputId": "af68f4a3-1a14-4e7b-d453-6979f1396afb"
      },
      "execution_count": 85,
      "outputs": [
        {
          "output_type": "stream",
          "name": "stdout",
          "text": [
            "\n",
            "15 Створіть дві матриці розміром 4x4, заповніть їх випадковими цілими числами в діапазоні від 1 до 10 та знайдіть їхню різницю.\n",
            "a: \n",
            "[[ 7  5  1  5]\n",
            " [ 5  8  2  5]\n",
            " [ 8  1  9  8]\n",
            " [ 7  2 10  6]]\n",
            "b: \n",
            "[[ 1  3 10  2]\n",
            " [ 2  8  7  7]\n",
            " [ 1  6  7  6]\n",
            " [ 8  1  2  8]]\n",
            "answer a-b:  \n",
            " [[ 6  2 -9  3]\n",
            " [ 3  0 -5 -2]\n",
            " [ 7 -5  2  2]\n",
            " [-1  1  8 -2]]\n"
          ]
        }
      ]
    },
    {
      "cell_type": "code",
      "source": [
        "print('''\\n16 Створіть матрицю розміром 3x3, заповніть її випадковими дійсними числами в діапазоні від 0 до 1 та знайдіть вектор-стовпчик, що містить суму елементів кожного рядка матриці.''')\n",
        "a = np.random.rand(3, 3)\n",
        "print(f\"a: \\n{a}\")\n",
        "b = np.array([[a[0, :].sum()],[a[1, :].sum()], [a[2, :].sum()]])\n",
        "print(\"answer 1:  \\n\", b)\n",
        "c = np.array([[el.sum()] for el in a[:]])\n",
        "print(\"answer 2:  \\n\", c)\n",
        "d = np.sum(a, axis=1).reshape((3, 1))\n",
        "print(\"answer 3:  \\n\", d)"
      ],
      "metadata": {
        "colab": {
          "base_uri": "https://localhost:8080/"
        },
        "id": "gLh9WqSd0BjD",
        "outputId": "3cc45d5f-be1b-4b20-ef01-5dbbdb08ba1d"
      },
      "execution_count": 86,
      "outputs": [
        {
          "output_type": "stream",
          "name": "stdout",
          "text": [
            "\n",
            "16 Створіть матрицю розміром 3x3, заповніть її випадковими дійсними числами в діапазоні від 0 до 1 та знайдіть вектор-стовпчик, що містить суму елементів кожного рядка матриці.\n",
            "a: \n",
            "[[0.00307499 0.99515228 0.14616436]\n",
            " [0.84048609 0.42454848 0.07792819]\n",
            " [0.48924357 0.96130683 0.89595925]]\n",
            "answer 1:  \n",
            " [[1.14439164]\n",
            " [1.34296276]\n",
            " [2.34650965]]\n",
            "answer 2:  \n",
            " [[1.14439164]\n",
            " [1.34296276]\n",
            " [2.34650965]]\n",
            "answer 3:  \n",
            " [[1.14439164]\n",
            " [1.34296276]\n",
            " [2.34650965]]\n"
          ]
        }
      ]
    },
    {
      "cell_type": "code",
      "source": [
        "print('''\\n17 Створіть матрицю розміром 3x4 з довільними цілими числами і створінь матрицю з квадратами цих чисел.''')\n",
        "a = np.random.randint(1, 11, size=(3, 4))\n",
        "print(f\"a: \\n{a}\")\n",
        "b = np.square(a)\n",
        "print(\"answer:  \\n\", b)\n",
        "c = a * a\n",
        "print(\"answer 2:  \\n\", c)\n",
        "d = a ** 2\n",
        "print(\"answer 3:  \\n\", d)"
      ],
      "metadata": {
        "colab": {
          "base_uri": "https://localhost:8080/"
        },
        "id": "0JsUafQU0Btz",
        "outputId": "2a24ab79-751c-46cd-edeb-baf6c85da58b"
      },
      "execution_count": 87,
      "outputs": [
        {
          "output_type": "stream",
          "name": "stdout",
          "text": [
            "\n",
            "17 Створіть матрицю розміром 3x4 з довільними цілими числами і створінь матрицю з квадратами цих чисел.\n",
            "a: \n",
            "[[4 8 8 1]\n",
            " [7 9 1 3]\n",
            " [7 5 9 5]]\n",
            "answer:  \n",
            " [[16 64 64  1]\n",
            " [49 81  1  9]\n",
            " [49 25 81 25]]\n",
            "answer 2:  \n",
            " [[16 64 64  1]\n",
            " [49 81  1  9]\n",
            " [49 25 81 25]]\n",
            "answer 3:  \n",
            " [[16 64 64  1]\n",
            " [49 81  1  9]\n",
            " [49 25 81 25]]\n"
          ]
        }
      ]
    },
    {
      "cell_type": "code",
      "source": [
        "print('''\\n18 Створіть вектор розміром 4, заповніть його випадковими цілими числами в діапазоні від 1 до 50 та знайдіть вектор з квадратними коренями цих чисел.''')\n",
        "a = np.random.randint(1, 51, size=4)\n",
        "print(f\"a: \\n{a}\")\n",
        "b = a ** 0.5\n",
        "print(\"answer:  \\n\", b)\n",
        "c = np.sqrt(a)\n",
        "print(\"answer 2:  \\n\", c)"
      ],
      "metadata": {
        "colab": {
          "base_uri": "https://localhost:8080/"
        },
        "id": "qRUtsc7a0B5c",
        "outputId": "5f022a97-9d1d-49c9-90fc-282fa1bdfe41"
      },
      "execution_count": 89,
      "outputs": [
        {
          "output_type": "stream",
          "name": "stdout",
          "text": [
            "\n",
            "18 Створіть вектор розміром 4, заповніть його випадковими цілими числами в діапазоні від 1 до 50 та знайдіть вектор з квадратними коренями цих чисел.\n",
            "a: \n",
            "[47 25 47 34]\n",
            "answer:  \n",
            " [6.8556546  5.         6.8556546  5.83095189]\n",
            "answer 2:  \n",
            " [6.8556546  5.         6.8556546  5.83095189]\n"
          ]
        }
      ]
    }
  ]
}