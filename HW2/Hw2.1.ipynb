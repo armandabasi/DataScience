{
  "nbformat": 4,
  "nbformat_minor": 0,
  "metadata": {
    "colab": {
      "provenance": []
    },
    "kernelspec": {
      "name": "python3",
      "display_name": "Python 3"
    },
    "language_info": {
      "name": "python"
    }
  },
  "cells": [
    {
      "cell_type": "markdown",
      "source": [
        "# **Частина перша: Знайомство з Pandas**"
      ],
      "metadata": {
        "id": "YEP3e5ZylyDH"
      }
    },
    {
      "cell_type": "markdown",
      "source": [
        "1. Вивести перші рядки таблиці за допомогою методу head:"
      ],
      "metadata": {
        "id": "DSZtoZp_mKYO"
      }
    },
    {
      "cell_type": "code",
      "source": [
        "import pandas as pd\n",
        "import numpy as np\n",
        "\n",
        "df = pd.read_html(\"https://uk.wikipedia.org/wiki/%D0%9D%D0%B0%D1%80%D0%BE%D0%B4%D0%B6%D1%83%D0%B2%D0%B0%D0%BD%D1%96%D1%81%D1%82%D1%8C_%D0%B2_%D0%A3%D0%BA%D1%80%D0%B0%D1%97%D0%BD%D1%96\",\n",
        "                  attrs={\"class\":\"wikitable sortable\"})\n",
        "df=df[0]\n",
        "print(df.head())"
      ],
      "metadata": {
        "colab": {
          "base_uri": "https://localhost:8080/"
        },
        "id": "Ar2qvLAGmE0m",
        "outputId": "47c58d58-84a0-4178-d076-cff6c7e776ee"
      },
      "execution_count": 54,
      "outputs": [
        {
          "output_type": "stream",
          "name": "stdout",
          "text": [
            "                      регіон   1950   1960   1970  1990  1992  1994  1996  \\\n",
            "0  Автономна Республіка Крим  230.0  206.0  160.0   130   109    93    80   \n",
            "1          Вінницька область  224.0  192.0  142.0   124   119   107   103   \n",
            "2          Волинська область  247.0  250.0  179.0   153   150   137   125   \n",
            "3   Дніпропетровська область  204.0  204.0  151.0   123   106    92    80   \n",
            "4           Донецька область  271.0  214.0  140.0   109    94    82    70   \n",
            "\n",
            "   2000  2004  2008  2012   2014  \n",
            "0    73    90   119   126    NaN  \n",
            "1    84    90   108   112  109.0  \n",
            "2   112   119   148   148  141.0  \n",
            "3    71    89   110   112  111.0  \n",
            "4    61    76    98    98   82.0  \n"
          ]
        }
      ]
    },
    {
      "cell_type": "markdown",
      "source": [
        "2. Визначте кількість рядків та стовпців у датафреймі (атрибут shape):"
      ],
      "metadata": {
        "id": "44Ad5x9XpwZH"
      }
    },
    {
      "cell_type": "code",
      "source": [
        "\n",
        "print(f\"Кількість рядків: {df.shape[0]}\\nКількість стовпців: {df.shape[1]}\")"
      ],
      "metadata": {
        "colab": {
          "base_uri": "https://localhost:8080/"
        },
        "id": "Y-OdaIH6mE5m",
        "outputId": "89169361-ef1f-4e33-d096-80b36b441fba"
      },
      "execution_count": 35,
      "outputs": [
        {
          "output_type": "stream",
          "name": "stdout",
          "text": [
            "Кількість рядків: 28\n",
            "Кількість стовпців: 13\n"
          ]
        }
      ]
    },
    {
      "cell_type": "markdown",
      "source": [
        "3. Замініть у таблиці значення \"—\" на значення NaN"
      ],
      "metadata": {
        "id": "ph4L-ykIrNBm"
      }
    },
    {
      "cell_type": "code",
      "source": [
        "df.replace(to_replace=\"—\",\n",
        "           value=np.nan,\n",
        "           inplace=True)\n",
        "print(df)"
      ],
      "metadata": {
        "colab": {
          "base_uri": "https://localhost:8080/"
        },
        "id": "5kSzg3bKrsBf",
        "outputId": "45f12bda-e553-4a8c-f990-051cdd1cb5fd"
      },
      "execution_count": 55,
      "outputs": [
        {
          "output_type": "stream",
          "name": "stdout",
          "text": [
            "                       регіон   1950   1960   1970  1990  1992  1994  1996  \\\n",
            "0   Автономна Республіка Крим  230.0  206.0  160.0   130   109    93    80   \n",
            "1           Вінницька область  224.0  192.0  142.0   124   119   107   103   \n",
            "2           Волинська область  247.0  250.0  179.0   153   150   137   125   \n",
            "3    Дніпропетровська область  204.0  204.0  151.0   123   106    92    80   \n",
            "4            Донецька область  271.0  214.0  140.0   109    94    82    70   \n",
            "5         Житомирська область  261.0  223.0  159.0   129   128   118   108   \n",
            "6        Закарпатська область  314.0  273.0  207.0   168   161   138   128   \n",
            "7          Запорізька область  219.0  197.0  150.0   124   107    92    81   \n",
            "8   Івано-Франківська область  243.0  248.0  182.0   155   144   131   122   \n",
            "9            Київська область  204.0  189.0  156.0   123   111    99    92   \n",
            "10     Кіровоградська область  216.0  171.0  145.0   126   119   107    96   \n",
            "11          Луганська область  262.0  235.0  144.0   116   101    84    72   \n",
            "12          Львівська область  234.0  240.0  171.0   140   132   117   111   \n",
            "13       Миколаївська область  211.0  194.0  155.0   137   123   107    96   \n",
            "14            Одеська область  241.0  192.0  148.0   126   114   100    92   \n",
            "15         Полтавська область  186.0  163.0  131.0   118   108    95    88   \n",
            "16         Рівненська область  269.0  267.0  193.0   158   154   145   132   \n",
            "17            Сумська область  216.0  184.0  132.0   115   105    92    84   \n",
            "18      Тернопільська область  213.0  216.0  157.0   142   138   123   115   \n",
            "19         Харківська область  197.0  173.0  140.0   114    98    83    76   \n",
            "20         Херсонська область  208.0  214.0  166.0   143   130   111    98   \n",
            "21        Хмельницька область  234.0  198.0  148.0   129   124   111   106   \n",
            "22          Черкаська область  205.0  179.0  144.0   123   114   100    93   \n",
            "23        Чернівецька область  247.0  218.0  170.0   148   140   128   121   \n",
            "24       Чернігівська область  220.0  183.0  127.0   108    98    88    82   \n",
            "25                       Київ    NaN  174.0  159.0   120    97    81    76   \n",
            "26    Севастополь (міськрада)    NaN    NaN    NaN   125    96    76    69   \n",
            "27                    Україна  228.0  205.0  152.0   126   114   100    92   \n",
            "\n",
            "    2000  2004  2008  2012   2014  \n",
            "0     73    90   119   126    NaN  \n",
            "1     84    90   108   112  109.0  \n",
            "2    112   119   148   148  141.0  \n",
            "3     71    89   110   112  111.0  \n",
            "4     61    76    98    98   82.0  \n",
            "5     89    98   113   122  120.0  \n",
            "6    115   124   147   151  146.0  \n",
            "7     71    85   103   106  106.0  \n",
            "8    103   107   123   124  122.0  \n",
            "9     73    90   117   122  121.0  \n",
            "10    79    86   102   110  108.0  \n",
            "11    62    73    95    96   51.0  \n",
            "12    91   101   113   119  119.0  \n",
            "13    80    90   112   115  112.0  \n",
            "14    80    96   120   127  123.0  \n",
            "15    70    75    97    99  100.0  \n",
            "16   118   125   148   159  148.0  \n",
            "17    70    72    91    97   92.0  \n",
            "18    92    99   113   113  109.0  \n",
            "19    68    80    98    99  101.0  \n",
            "20    85    91   113   117  115.0  \n",
            "21    85    91   110   113  112.0  \n",
            "22    75    77    95   100   98.0  \n",
            "23   101   106   122   128  129.0  \n",
            "24    69    75    89    94   90.0  \n",
            "25    73    98   116   120  121.0  \n",
            "26    70    97   110   120    NaN  \n",
            "27    78    90   110   114  108.0  \n"
          ]
        }
      ]
    },
    {
      "cell_type": "markdown",
      "source": [
        "4. Визначте типи всіх стовпців за допомогою dataframe.dtypes"
      ],
      "metadata": {
        "id": "OVhU9OZWrwku"
      }
    },
    {
      "cell_type": "code",
      "source": [
        "type_column = df.dtypes\n",
        "print(type_column)"
      ],
      "metadata": {
        "colab": {
          "base_uri": "https://localhost:8080/"
        },
        "id": "RBcmwMMTr3wf",
        "outputId": "6a85d6db-2ccb-4baf-a545-c5af7904c06a"
      },
      "execution_count": 49,
      "outputs": [
        {
          "output_type": "stream",
          "name": "stdout",
          "text": [
            "регіон     object\n",
            "1950      float64\n",
            "1960      float64\n",
            "1970      float64\n",
            "1990        int64\n",
            "1992        int64\n",
            "1994        int64\n",
            "1996        int64\n",
            "2000        int64\n",
            "2004        int64\n",
            "2008        int64\n",
            "2012        int64\n",
            "2014      float64\n",
            "dtype: object\n"
          ]
        }
      ]
    },
    {
      "cell_type": "markdown",
      "source": [
        "5. Замініть типи нечислових колонок на числові. Підказка - це колонки, де знаходився символ \"—\".\n",
        "\n",
        "Змінимо всі колонки в яких тип int64 на float64"
      ],
      "metadata": {
        "id": "RApIqiLeu9FG"
      }
    },
    {
      "cell_type": "code",
      "source": [
        "df = df.astype(float, errors='ignore')\n",
        "\n",
        "print(df.dtypes)"
      ],
      "metadata": {
        "colab": {
          "base_uri": "https://localhost:8080/"
        },
        "id": "b1rgc6hMvCn-",
        "outputId": "6c6af7c6-8961-42f6-8df2-20bec36e6458"
      },
      "execution_count": 57,
      "outputs": [
        {
          "output_type": "stream",
          "name": "stdout",
          "text": [
            "регіон     object\n",
            "1950      float64\n",
            "1960      float64\n",
            "1970      float64\n",
            "1990      float64\n",
            "1992      float64\n",
            "1994      float64\n",
            "1996      float64\n",
            "2000      float64\n",
            "2004      float64\n",
            "2008      float64\n",
            "2012      float64\n",
            "2014      float64\n",
            "dtype: object\n"
          ]
        }
      ]
    },
    {
      "cell_type": "markdown",
      "source": [
        "6. Порахуйте, яка частка пропусків міститься в кожній колонці (використовуйте методи isnull та sum)"
      ],
      "metadata": {
        "id": "hWxwCJMQxn_P"
      }
    },
    {
      "cell_type": "code",
      "source": [
        "print(df.isnull().sum())\n"
      ],
      "metadata": {
        "colab": {
          "base_uri": "https://localhost:8080/"
        },
        "id": "KF6RjHp6xtV4",
        "outputId": "047d6d8c-17d4-4ac7-f1a6-0bb2c467b929"
      },
      "execution_count": 63,
      "outputs": [
        {
          "output_type": "stream",
          "name": "stdout",
          "text": [
            "регіон    0\n",
            "1950      2\n",
            "1960      1\n",
            "1970      1\n",
            "1990      0\n",
            "1992      0\n",
            "1994      0\n",
            "1996      0\n",
            "2000      0\n",
            "2004      0\n",
            "2008      0\n",
            "2012      0\n",
            "2014      2\n",
            "dtype: int64\n"
          ]
        }
      ]
    },
    {
      "cell_type": "markdown",
      "source": [
        "7. Видаліть з таблиці дані по всій країні, останній рядок таблиці"
      ],
      "metadata": {
        "id": "uu_auQRyxt0n"
      }
    },
    {
      "cell_type": "code",
      "source": [
        "df.drop(df.index[-1], inplace=True)\n",
        "print(df)"
      ],
      "metadata": {
        "colab": {
          "base_uri": "https://localhost:8080/"
        },
        "id": "Cs7LtKnLxyUn",
        "outputId": "817c7cb8-524c-490d-c801-0a132eed7f6e"
      },
      "execution_count": 67,
      "outputs": [
        {
          "output_type": "stream",
          "name": "stdout",
          "text": [
            "                       регіон   1950   1960   1970   1990   1992   1994  \\\n",
            "0   Автономна Республіка Крим  230.0  206.0  160.0  130.0  109.0   93.0   \n",
            "1           Вінницька область  224.0  192.0  142.0  124.0  119.0  107.0   \n",
            "2           Волинська область  247.0  250.0  179.0  153.0  150.0  137.0   \n",
            "3    Дніпропетровська область  204.0  204.0  151.0  123.0  106.0   92.0   \n",
            "4            Донецька область  271.0  214.0  140.0  109.0   94.0   82.0   \n",
            "5         Житомирська область  261.0  223.0  159.0  129.0  128.0  118.0   \n",
            "6        Закарпатська область  314.0  273.0  207.0  168.0  161.0  138.0   \n",
            "7          Запорізька область  219.0  197.0  150.0  124.0  107.0   92.0   \n",
            "8   Івано-Франківська область  243.0  248.0  182.0  155.0  144.0  131.0   \n",
            "9            Київська область  204.0  189.0  156.0  123.0  111.0   99.0   \n",
            "10     Кіровоградська область  216.0  171.0  145.0  126.0  119.0  107.0   \n",
            "11          Луганська область  262.0  235.0  144.0  116.0  101.0   84.0   \n",
            "12          Львівська область  234.0  240.0  171.0  140.0  132.0  117.0   \n",
            "13       Миколаївська область  211.0  194.0  155.0  137.0  123.0  107.0   \n",
            "14            Одеська область  241.0  192.0  148.0  126.0  114.0  100.0   \n",
            "15         Полтавська область  186.0  163.0  131.0  118.0  108.0   95.0   \n",
            "16         Рівненська область  269.0  267.0  193.0  158.0  154.0  145.0   \n",
            "17            Сумська область  216.0  184.0  132.0  115.0  105.0   92.0   \n",
            "18      Тернопільська область  213.0  216.0  157.0  142.0  138.0  123.0   \n",
            "19         Харківська область  197.0  173.0  140.0  114.0   98.0   83.0   \n",
            "20         Херсонська область  208.0  214.0  166.0  143.0  130.0  111.0   \n",
            "21        Хмельницька область  234.0  198.0  148.0  129.0  124.0  111.0   \n",
            "22          Черкаська область  205.0  179.0  144.0  123.0  114.0  100.0   \n",
            "23        Чернівецька область  247.0  218.0  170.0  148.0  140.0  128.0   \n",
            "24       Чернігівська область  220.0  183.0  127.0  108.0   98.0   88.0   \n",
            "25                       Київ    NaN  174.0  159.0  120.0   97.0   81.0   \n",
            "26    Севастополь (міськрада)    NaN    NaN    NaN  125.0   96.0   76.0   \n",
            "\n",
            "     1996   2000   2004   2008   2012   2014  \n",
            "0    80.0   73.0   90.0  119.0  126.0    NaN  \n",
            "1   103.0   84.0   90.0  108.0  112.0  109.0  \n",
            "2   125.0  112.0  119.0  148.0  148.0  141.0  \n",
            "3    80.0   71.0   89.0  110.0  112.0  111.0  \n",
            "4    70.0   61.0   76.0   98.0   98.0   82.0  \n",
            "5   108.0   89.0   98.0  113.0  122.0  120.0  \n",
            "6   128.0  115.0  124.0  147.0  151.0  146.0  \n",
            "7    81.0   71.0   85.0  103.0  106.0  106.0  \n",
            "8   122.0  103.0  107.0  123.0  124.0  122.0  \n",
            "9    92.0   73.0   90.0  117.0  122.0  121.0  \n",
            "10   96.0   79.0   86.0  102.0  110.0  108.0  \n",
            "11   72.0   62.0   73.0   95.0   96.0   51.0  \n",
            "12  111.0   91.0  101.0  113.0  119.0  119.0  \n",
            "13   96.0   80.0   90.0  112.0  115.0  112.0  \n",
            "14   92.0   80.0   96.0  120.0  127.0  123.0  \n",
            "15   88.0   70.0   75.0   97.0   99.0  100.0  \n",
            "16  132.0  118.0  125.0  148.0  159.0  148.0  \n",
            "17   84.0   70.0   72.0   91.0   97.0   92.0  \n",
            "18  115.0   92.0   99.0  113.0  113.0  109.0  \n",
            "19   76.0   68.0   80.0   98.0   99.0  101.0  \n",
            "20   98.0   85.0   91.0  113.0  117.0  115.0  \n",
            "21  106.0   85.0   91.0  110.0  113.0  112.0  \n",
            "22   93.0   75.0   77.0   95.0  100.0   98.0  \n",
            "23  121.0  101.0  106.0  122.0  128.0  129.0  \n",
            "24   82.0   69.0   75.0   89.0   94.0   90.0  \n",
            "25   76.0   73.0   98.0  116.0  120.0  121.0  \n",
            "26   69.0   70.0   97.0  110.0  120.0    NaN  \n"
          ]
        }
      ]
    },
    {
      "cell_type": "markdown",
      "source": [
        "8. Замініть відсутні дані в стовпцях середніми значеннями цих стовпців (метод fillna)"
      ],
      "metadata": {
        "id": "FiQURJrZxzF2"
      }
    },
    {
      "cell_type": "code",
      "source": [
        "df = df.fillna(df.mean(numeric_only=True))\n",
        "\n",
        "print(df.round(2))"
      ],
      "metadata": {
        "colab": {
          "base_uri": "https://localhost:8080/"
        },
        "id": "2zz0YPhix2o2",
        "outputId": "d0b8bc5b-b2cd-45ff-f6d8-10a45284a612"
      },
      "execution_count": 75,
      "outputs": [
        {
          "output_type": "stream",
          "name": "stdout",
          "text": [
            "                       регіон    1950    1960   1970   1990   1992   1994  \\\n",
            "0   Автономна Республіка Крим  230.00  206.00  160.0  130.0  109.0   93.0   \n",
            "1           Вінницька область  224.00  192.00  142.0  124.0  119.0  107.0   \n",
            "2           Волинська область  247.00  250.00  179.0  153.0  150.0  137.0   \n",
            "3    Дніпропетровська область  204.00  204.00  151.0  123.0  106.0   92.0   \n",
            "4            Донецька область  271.00  214.00  140.0  109.0   94.0   82.0   \n",
            "5         Житомирська область  261.00  223.00  159.0  129.0  128.0  118.0   \n",
            "6        Закарпатська область  314.00  273.00  207.0  168.0  161.0  138.0   \n",
            "7          Запорізька область  219.00  197.00  150.0  124.0  107.0   92.0   \n",
            "8   Івано-Франківська область  243.00  248.00  182.0  155.0  144.0  131.0   \n",
            "9            Київська область  204.00  189.00  156.0  123.0  111.0   99.0   \n",
            "10     Кіровоградська область  216.00  171.00  145.0  126.0  119.0  107.0   \n",
            "11          Луганська область  262.00  235.00  144.0  116.0  101.0   84.0   \n",
            "12          Львівська область  234.00  240.00  171.0  140.0  132.0  117.0   \n",
            "13       Миколаївська область  211.00  194.00  155.0  137.0  123.0  107.0   \n",
            "14            Одеська область  241.00  192.00  148.0  126.0  114.0  100.0   \n",
            "15         Полтавська область  186.00  163.00  131.0  118.0  108.0   95.0   \n",
            "16         Рівненська область  269.00  267.00  193.0  158.0  154.0  145.0   \n",
            "17            Сумська область  216.00  184.00  132.0  115.0  105.0   92.0   \n",
            "18      Тернопільська область  213.00  216.00  157.0  142.0  138.0  123.0   \n",
            "19         Харківська область  197.00  173.00  140.0  114.0   98.0   83.0   \n",
            "20         Херсонська область  208.00  214.00  166.0  143.0  130.0  111.0   \n",
            "21        Хмельницька область  234.00  198.00  148.0  129.0  124.0  111.0   \n",
            "22          Черкаська область  205.00  179.00  144.0  123.0  114.0  100.0   \n",
            "23        Чернівецька область  247.00  218.00  170.0  148.0  140.0  128.0   \n",
            "24       Чернігівська область  220.00  183.00  127.0  108.0   98.0   88.0   \n",
            "25                       Київ  231.04  174.00  159.0  120.0   97.0   81.0   \n",
            "26    Севастополь (міськрада)  231.04  207.58  156.0  125.0   96.0   76.0   \n",
            "\n",
            "     1996   2000   2004   2008   2012    2014  \n",
            "0    80.0   73.0   90.0  119.0  126.0  111.44  \n",
            "1   103.0   84.0   90.0  108.0  112.0  109.00  \n",
            "2   125.0  112.0  119.0  148.0  148.0  141.00  \n",
            "3    80.0   71.0   89.0  110.0  112.0  111.00  \n",
            "4    70.0   61.0   76.0   98.0   98.0   82.00  \n",
            "5   108.0   89.0   98.0  113.0  122.0  120.00  \n",
            "6   128.0  115.0  124.0  147.0  151.0  146.00  \n",
            "7    81.0   71.0   85.0  103.0  106.0  106.00  \n",
            "8   122.0  103.0  107.0  123.0  124.0  122.00  \n",
            "9    92.0   73.0   90.0  117.0  122.0  121.00  \n",
            "10   96.0   79.0   86.0  102.0  110.0  108.00  \n",
            "11   72.0   62.0   73.0   95.0   96.0   51.00  \n",
            "12  111.0   91.0  101.0  113.0  119.0  119.00  \n",
            "13   96.0   80.0   90.0  112.0  115.0  112.00  \n",
            "14   92.0   80.0   96.0  120.0  127.0  123.00  \n",
            "15   88.0   70.0   75.0   97.0   99.0  100.00  \n",
            "16  132.0  118.0  125.0  148.0  159.0  148.00  \n",
            "17   84.0   70.0   72.0   91.0   97.0   92.00  \n",
            "18  115.0   92.0   99.0  113.0  113.0  109.00  \n",
            "19   76.0   68.0   80.0   98.0   99.0  101.00  \n",
            "20   98.0   85.0   91.0  113.0  117.0  115.00  \n",
            "21  106.0   85.0   91.0  110.0  113.0  112.00  \n",
            "22   93.0   75.0   77.0   95.0  100.0   98.00  \n",
            "23  121.0  101.0  106.0  122.0  128.0  129.00  \n",
            "24   82.0   69.0   75.0   89.0   94.0   90.00  \n",
            "25   76.0   73.0   98.0  116.0  120.0  121.00  \n",
            "26   69.0   70.0   97.0  110.0  120.0  111.44  \n"
          ]
        }
      ]
    },
    {
      "cell_type": "markdown",
      "source": [
        "9. Отримайте список регіонів, де рівень народжуваності у 2014 році був вищим за середній по Україні"
      ],
      "metadata": {
        "id": "MUq0H9szx3R-"
      }
    },
    {
      "cell_type": "code",
      "source": [
        "print(df[df[\"2014\"]>df[\"2014\"].mean()][\"регіон\"])"
      ],
      "metadata": {
        "colab": {
          "base_uri": "https://localhost:8080/"
        },
        "id": "8VeUAIH4x5uW",
        "outputId": "aeee72c8-a7a3-4544-8eb3-fe626f055e0a"
      },
      "execution_count": 95,
      "outputs": [
        {
          "output_type": "stream",
          "name": "stdout",
          "text": [
            "2             Волинська область\n",
            "5           Житомирська область\n",
            "6          Закарпатська область\n",
            "8     Івано-Франківська область\n",
            "9              Київська область\n",
            "12            Львівська область\n",
            "13         Миколаївська область\n",
            "14              Одеська область\n",
            "16           Рівненська область\n",
            "20           Херсонська область\n",
            "21          Хмельницька область\n",
            "23          Чернівецька область\n",
            "25                         Київ\n",
            "Name: регіон, dtype: object\n"
          ]
        }
      ]
    },
    {
      "cell_type": "markdown",
      "source": [
        "10. У якому регіоні була найвища народжуваність у 2014 році?"
      ],
      "metadata": {
        "id": "BU-DRSZ2x77_"
      }
    },
    {
      "cell_type": "code",
      "source": [
        "print(df[max(df[\"2014\"]) == df[\"2014\"]][\"регіон\"])"
      ],
      "metadata": {
        "colab": {
          "base_uri": "https://localhost:8080/"
        },
        "id": "e2YhmR3Cx7Le",
        "outputId": "b6f47bad-27cc-4369-de5f-6f0a222013a9"
      },
      "execution_count": 103,
      "outputs": [
        {
          "output_type": "stream",
          "name": "stdout",
          "text": [
            "16    Рівненська область\n",
            "Name: регіон, dtype: object\n"
          ]
        }
      ]
    },
    {
      "cell_type": "markdown",
      "source": [
        "11. Побудуйте стовпчикову діаграму народжуваності по регіонах у 2014 році"
      ],
      "metadata": {
        "id": "Dkldyf1Xx98n"
      }
    },
    {
      "cell_type": "code",
      "source": [
        "import matplotlib.pyplot as plt\n",
        "\n",
        "plt.bar(df[\"регіон\"], df[\"2014\"])\n",
        "\n",
        "plt.xlabel(\"Pегіони\")\n",
        "plt.ylabel(\"2014\")\n",
        "plt.title(\"Народжуваності по регіонах у 2014 році\")\n",
        "plt.xticks(rotation=90)\n",
        "plt.grid(True)\n",
        "plt.show()\n",
        "\n"
      ],
      "metadata": {
        "colab": {
          "base_uri": "https://localhost:8080/",
          "height": 665
        },
        "id": "vgy0e9xGx9BW",
        "outputId": "e89582eb-9c28-47ac-d0db-40af63c4ff31"
      },
      "execution_count": 111,
      "outputs": [
        {
          "output_type": "display_data",
          "data": {
            "text/plain": [
              "<Figure size 640x480 with 1 Axes>"
            ],
            "image/png": "[encoded data removed]"
          },
          "metadata": {}
        }
      ]
    }
  ]
}